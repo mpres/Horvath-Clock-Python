{
 "cells": [
  {
   "cell_type": "code",
   "execution_count": 1,
   "id": "435742ad-e3ef-451b-9514-c6caab519c25",
   "metadata": {},
   "outputs": [],
   "source": [
    "import numpy as np\n",
    "import pandas as pd\n",
    "from scipy.stats import beta\n",
    "from scipy.optimize import minimize"
   ]
  },
  {
   "cell_type": "code",
   "execution_count": 4,
   "id": "b0d894f6-7c1e-4a55-b735-dab2006d97ef",
   "metadata": {},
   "outputs": [],
   "source": [
    "def betaEst(y,w,weights):\n",
    "    y_idx = np.where(~np.isnan(y))\n",
    "    y = y[y_idx]\n",
    "    w = w[y_idx]\n",
    "    weights = weights[y_idx]\n",
    "    N = sum(weights*w)\n",
    "    p = sum(weights*w*y)/N\n",
    "    v = sum(weights*w*y*y)/N - p*p\n",
    "    logab = np.log(np.array([p,1-p])) + np.log(np.maximum(1E-6,(p*(1-p)/v-1)))\n",
    "    if ( sum(~np.isnan(y))==2):\n",
    "        return np.exp(logab)\n",
    "\n",
    "    opt = minimize(betaObjf, logab, args=(y,w,weights),method=\"BFGS\")\n",
    "    return np.exp(opt.x)\n",
    "             "
   ]
  },
  {
   "cell_type": "code",
   "execution_count": 11,
   "id": "fe66105e-40c2-48d6-89e9-dd7aa8742fd5",
   "metadata": {},
   "outputs": [],
   "source": [
    "def betaObjf(logab,ydata,wdata,weights):\n",
    "    ab = np.exp(logab)\n",
    "    l = -sum(wdata*weights*beta.logpdf(ydata,ab[0],ab[1]))\n",
    "    return l\n"
   ]
  },
  {
   "cell_type": "code",
   "execution_count": 12,
   "id": "fe526ba5-6fc9-4f16-84d5-180278ab5792",
   "metadata": {},
   "outputs": [],
   "source": [
    "def blc (Y, w, maxiter=25, tol=1E-6, weights=None, verbose=True):\n",
    "    Ymn = np.min(Y[np.where(Y>0)])\n",
    "    Ymx = np.max(Y[np.where(Y<1)])\n",
    "    Y = np.maximum(Y,Ymn/2)\n",
    "    Y = np.minimum(Y,1-(1-Ymx)/2)\n",
    "       \n",
    "    Yobs = np.where(~np.isnan(testY),True,False)\n",
    "\n",
    "    Ydf = pd.DataFrame(Y)\n",
    "    Wdf = pd.DataFrame(w)\n",
    "\n",
    "    \n",
    "    J = Ydf.shape[1]\n",
    "    K = Wdf.shape[1]\n",
    "    n = Wdf.shape[0]   \n",
    "\n",
    "    \n",
    "    if ( n != Ydf.shape[0]):\n",
    "        return print(\"Dimensions of w and Y do not agree\")\n",
    "    \n",
    "    if ( weights == None or weights == 0 ):\n",
    "        weights = np.repeat(1,n)\n",
    "    mu = np.full([K,J],np.Inf)\n",
    "    b = np.full([K,J],np.Inf)\n",
    "    a = np.full([K,J],np.Inf)\n",
    "\n",
    "    crit = np.Inf\n",
    "    for i in range(maxiter):\n",
    "        weightedDF = (weights*2)\n",
    "        eta = ( np.apply_over_axes(sum,w*weights,0) ) / sum(weights)\n",
    "        mu0 = np.copy(mu) \n",
    "        for k in range(K):\n",
    "            for j in range(J):\n",
    "                ab = betaEst(Y[:,j],w[:,k], weights)\n",
    "                a[k,j] = ab[0]\n",
    "                b[k,j] = ab[1]\n",
    "                mu[k,j] = ab[0]/sum(ab)\n",
    "        ww = np.zeros((n,J,K))\n",
    "        for k in range(K):\n",
    "            for j in range(J):\n",
    "                ww[k,Yobs[:,j],j] = beta.logpdf(Y[Yobs[:,j],j],a[k,j], b[k,j])\n",
    "        w = np.apply_along_axis(np.sum,2,ww)\n",
    "        w = w.transpose()\n",
    "        wmax = np.apply_along_axis(np.max,1,w)\n",
    "        for k in range(K):\n",
    "            w[:,k] = w[:,k] - wmax\n",
    "        w =  (np.transpose(np.exp(w)) * eta)\n",
    "        w = np.transpose(w)\n",
    "        like = np.apply_along_axis(sum,1,w)\n",
    "        w = (1/like) * w\n",
    "        llike = weights * (np.log(like) + wmax)\n",
    "        verbose = 1\n",
    "        crit = np.max(abs(mu-mu0))\n",
    "        if( verbose == 1):\n",
    "            if ( crit<tol ):\n",
    "                break\n",
    "    return [(\"a\",a),(\"b\",b),(\"eta\",eta),(\"mu\",mu),(\"w\",w),(\"sum llike\",sum(llike))]"
   ]
  }
 ],
 "metadata": {
  "kernelspec": {
   "display_name": "Python 3 (ipykernel)",
   "language": "python",
   "name": "python3"
  },
  "language_info": {
   "codemirror_mode": {
    "name": "ipython",
    "version": 3
   },
   "file_extension": ".py",
   "mimetype": "text/x-python",
   "name": "python",
   "nbconvert_exporter": "python",
   "pygments_lexer": "ipython3",
   "version": "3.9.12"
  }
 },
 "nbformat": 4,
 "nbformat_minor": 5
}
